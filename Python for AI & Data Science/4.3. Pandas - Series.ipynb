{
 "cells": [
  {
   "cell_type": "code",
   "execution_count": 1,
   "id": "cc4416a1",
   "metadata": {},
   "outputs": [],
   "source": [
    "# Create Series by List Python"
   ]
  },
  {
   "cell_type": "code",
   "execution_count": 2,
   "id": "72320692",
   "metadata": {},
   "outputs": [],
   "source": [
    "import pandas as pd"
   ]
  },
  {
   "cell_type": "code",
   "execution_count": 3,
   "id": "cfc97376",
   "metadata": {},
   "outputs": [],
   "source": [
    "li = [3, 5, 7]\n",
    "se = pd.Series(li)"
   ]
  },
  {
   "cell_type": "code",
   "execution_count": 4,
   "id": "2f30e5c4",
   "metadata": {},
   "outputs": [
    {
     "name": "stdout",
     "output_type": "stream",
     "text": [
      "0    3\n",
      "1    5\n",
      "2    7\n",
      "dtype: int64\n"
     ]
    }
   ],
   "source": [
    "print(se)"
   ]
  },
  {
   "cell_type": "code",
   "execution_count": 5,
   "id": "8aa64eaa",
   "metadata": {},
   "outputs": [
    {
     "data": {
      "text/plain": [
       "pandas.core.series.Series"
      ]
     },
     "execution_count": 5,
     "metadata": {},
     "output_type": "execute_result"
    }
   ],
   "source": [
    "type(se)"
   ]
  },
  {
   "cell_type": "code",
   "execution_count": 6,
   "id": "25de5fab",
   "metadata": {},
   "outputs": [],
   "source": [
    "import numpy as np"
   ]
  },
  {
   "cell_type": "code",
   "execution_count": 7,
   "id": "ac4d8acc",
   "metadata": {},
   "outputs": [],
   "source": [
    "arr = np.array([3, 5, 7])\n",
    "se = pd.Series(arr)"
   ]
  },
  {
   "cell_type": "code",
   "execution_count": 8,
   "id": "639a66e4",
   "metadata": {},
   "outputs": [
    {
     "data": {
      "text/plain": [
       "0    3\n",
       "1    5\n",
       "2    7\n",
       "dtype: int32"
      ]
     },
     "execution_count": 8,
     "metadata": {},
     "output_type": "execute_result"
    }
   ],
   "source": [
    "se"
   ]
  },
  {
   "cell_type": "code",
   "execution_count": 9,
   "id": "a421e406",
   "metadata": {},
   "outputs": [
    {
     "data": {
      "text/plain": [
       "pandas.core.series.Series"
      ]
     },
     "execution_count": 9,
     "metadata": {},
     "output_type": "execute_result"
    }
   ],
   "source": [
    "type(se)"
   ]
  },
  {
   "cell_type": "code",
   "execution_count": 10,
   "id": "a1170b28",
   "metadata": {},
   "outputs": [],
   "source": [
    "# Element Acces At Series"
   ]
  },
  {
   "cell_type": "code",
   "execution_count": 11,
   "id": "1775b302",
   "metadata": {},
   "outputs": [],
   "source": [
    "li = [3, 5, 7]\n",
    "se = pd.Series(li)"
   ]
  },
  {
   "cell_type": "code",
   "execution_count": 12,
   "id": "1874ac6d",
   "metadata": {},
   "outputs": [
    {
     "name": "stdout",
     "output_type": "stream",
     "text": [
      "0    3\n",
      "1    5\n",
      "dtype: int64\n"
     ]
    }
   ],
   "source": [
    "print(se[0: -1])"
   ]
  },
  {
   "cell_type": "code",
   "execution_count": 13,
   "id": "08c4c73e",
   "metadata": {},
   "outputs": [],
   "source": [
    "## Give label at Series"
   ]
  },
  {
   "cell_type": "code",
   "execution_count": 14,
   "id": "8b50e4c8",
   "metadata": {},
   "outputs": [],
   "source": [
    "li = [3, 5, 7]\n",
    "se = pd.Series(li, index = ['x', 'y', 'z'])"
   ]
  },
  {
   "cell_type": "code",
   "execution_count": 15,
   "id": "4d679421",
   "metadata": {},
   "outputs": [
    {
     "data": {
      "text/plain": [
       "x    3\n",
       "y    5\n",
       "z    7\n",
       "dtype: int64"
      ]
     },
     "execution_count": 15,
     "metadata": {},
     "output_type": "execute_result"
    }
   ],
   "source": [
    "se"
   ]
  },
  {
   "cell_type": "code",
   "execution_count": 16,
   "id": "c1291f70",
   "metadata": {},
   "outputs": [
    {
     "name": "stdout",
     "output_type": "stream",
     "text": [
      "5\n"
     ]
    }
   ],
   "source": [
    "print(se['y'])"
   ]
  },
  {
   "cell_type": "code",
   "execution_count": 17,
   "id": "125930d8",
   "metadata": {},
   "outputs": [],
   "source": [
    "# Create Series From Dictionary"
   ]
  },
  {
   "cell_type": "code",
   "execution_count": 18,
   "id": "70921821",
   "metadata": {},
   "outputs": [],
   "source": [
    "calories = {\"day1\": 30, \"day2\": 66, \"day3\": 90}\n",
    "se = pd.Series(calories)"
   ]
  },
  {
   "cell_type": "code",
   "execution_count": 19,
   "id": "b5fadfb6",
   "metadata": {},
   "outputs": [
    {
     "data": {
      "text/plain": [
       "day1    30\n",
       "day2    66\n",
       "day3    90\n",
       "dtype: int64"
      ]
     },
     "execution_count": 19,
     "metadata": {},
     "output_type": "execute_result"
    }
   ],
   "source": [
    "se"
   ]
  }
 ],
 "metadata": {
  "kernelspec": {
   "display_name": "Python 3 (ipykernel)",
   "language": "python",
   "name": "python3"
  },
  "language_info": {
   "codemirror_mode": {
    "name": "ipython",
    "version": 3
   },
   "file_extension": ".py",
   "mimetype": "text/x-python",
   "name": "python",
   "nbconvert_exporter": "python",
   "pygments_lexer": "ipython3",
   "version": "3.9.13"
  }
 },
 "nbformat": 4,
 "nbformat_minor": 5
}
