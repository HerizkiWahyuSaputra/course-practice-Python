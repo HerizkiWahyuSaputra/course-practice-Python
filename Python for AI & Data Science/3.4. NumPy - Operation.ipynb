{
 "cells": [
  {
   "cell_type": "code",
   "execution_count": 1,
   "id": "01472b0b",
   "metadata": {},
   "outputs": [],
   "source": [
    "## Iterasi at NumPy Array 1D"
   ]
  },
  {
   "cell_type": "code",
   "execution_count": 2,
   "id": "54d52707",
   "metadata": {},
   "outputs": [],
   "source": [
    "import numpy as np"
   ]
  },
  {
   "cell_type": "code",
   "execution_count": 3,
   "id": "e74d1a83",
   "metadata": {},
   "outputs": [],
   "source": [
    "arr = np.array([1,2,3])"
   ]
  },
  {
   "cell_type": "code",
   "execution_count": 4,
   "id": "37833020",
   "metadata": {},
   "outputs": [
    {
     "name": "stdout",
     "output_type": "stream",
     "text": [
      "1\n",
      "2\n",
      "3\n"
     ]
    }
   ],
   "source": [
    "for x in arr:\n",
    "    print(x)"
   ]
  },
  {
   "cell_type": "code",
   "execution_count": 5,
   "id": "95016c30",
   "metadata": {},
   "outputs": [],
   "source": [
    "# Iterasi at NumPy Array 2D"
   ]
  },
  {
   "cell_type": "code",
   "execution_count": 6,
   "id": "531ad425",
   "metadata": {},
   "outputs": [],
   "source": [
    "arr = np.array([[1,2,3], [4,5,6]])"
   ]
  },
  {
   "cell_type": "code",
   "execution_count": 7,
   "id": "03cb9db9",
   "metadata": {},
   "outputs": [
    {
     "name": "stdout",
     "output_type": "stream",
     "text": [
      "[1 2 3]\n",
      "[4 5 6]\n"
     ]
    }
   ],
   "source": [
    "for x in arr:\n",
    "    print(x)"
   ]
  },
  {
   "cell_type": "code",
   "execution_count": 8,
   "id": "e708ddff",
   "metadata": {},
   "outputs": [],
   "source": [
    "# Iterasi at NumPy Array 3D"
   ]
  },
  {
   "cell_type": "code",
   "execution_count": 9,
   "id": "2c0329d1",
   "metadata": {},
   "outputs": [],
   "source": [
    "arr = np.array([[[1,2,3], [4,5,6]],\n",
    "                [[7,8,9], [10,11,12]]])"
   ]
  },
  {
   "cell_type": "code",
   "execution_count": 10,
   "id": "079973c9",
   "metadata": {},
   "outputs": [
    {
     "name": "stdout",
     "output_type": "stream",
     "text": [
      "[[1 2 3]\n",
      " [4 5 6]]\n",
      "[[ 7  8  9]\n",
      " [10 11 12]]\n"
     ]
    }
   ],
   "source": [
    "for x in arr:\n",
    "    print(x)"
   ]
  },
  {
   "cell_type": "code",
   "execution_count": 11,
   "id": "87cb9722",
   "metadata": {},
   "outputs": [],
   "source": [
    "# Iterasi with nditer()"
   ]
  },
  {
   "cell_type": "code",
   "execution_count": 12,
   "id": "fe0f9f46",
   "metadata": {},
   "outputs": [],
   "source": [
    "arr = np.array([[[1,2], [3,4], [5,6], [7,8]]])"
   ]
  },
  {
   "cell_type": "code",
   "execution_count": 13,
   "id": "5ff10b42",
   "metadata": {},
   "outputs": [
    {
     "name": "stdout",
     "output_type": "stream",
     "text": [
      "1\n",
      "2\n",
      "3\n",
      "4\n",
      "5\n",
      "6\n",
      "7\n",
      "8\n"
     ]
    }
   ],
   "source": [
    "for x in np.nditer(arr):\n",
    "    print(x)"
   ]
  },
  {
   "cell_type": "code",
   "execution_count": 14,
   "id": "f62b0a0a",
   "metadata": {},
   "outputs": [],
   "source": [
    "# Iterasi with ndenumerate() at Array 1D "
   ]
  },
  {
   "cell_type": "code",
   "execution_count": 15,
   "id": "82f1aed2",
   "metadata": {},
   "outputs": [],
   "source": [
    "arr = np.array([1,2,3])"
   ]
  },
  {
   "cell_type": "code",
   "execution_count": 16,
   "id": "7f4e0fcb",
   "metadata": {},
   "outputs": [
    {
     "name": "stdout",
     "output_type": "stream",
     "text": [
      "(0,) 1\n",
      "(1,) 2\n",
      "(2,) 3\n"
     ]
    }
   ],
   "source": [
    "for idx, x in np.ndenumerate(arr): # with index\n",
    "    print(idx, x)"
   ]
  },
  {
   "cell_type": "code",
   "execution_count": 17,
   "id": "68f82e06",
   "metadata": {},
   "outputs": [],
   "source": [
    "# Iterasi with ndenumerate() at Array 2D"
   ]
  },
  {
   "cell_type": "code",
   "execution_count": 18,
   "id": "596b9dde",
   "metadata": {},
   "outputs": [],
   "source": [
    "arr = np.array([[1,2,3], [4,5,6]])"
   ]
  },
  {
   "cell_type": "code",
   "execution_count": 19,
   "id": "38d410e6",
   "metadata": {},
   "outputs": [
    {
     "name": "stdout",
     "output_type": "stream",
     "text": [
      "(0, 0) 1\n",
      "(0, 1) 2\n",
      "(0, 2) 3\n",
      "(1, 0) 4\n",
      "(1, 1) 5\n",
      "(1, 2) 6\n"
     ]
    }
   ],
   "source": [
    "for idx, x in np.ndenumerate(arr):\n",
    "    print(idx, x)"
   ]
  },
  {
   "cell_type": "code",
   "execution_count": 20,
   "id": "d5e7ed42",
   "metadata": {},
   "outputs": [],
   "source": [
    "##Join with 2 Array 1D"
   ]
  },
  {
   "cell_type": "code",
   "execution_count": 21,
   "id": "fb01897c",
   "metadata": {},
   "outputs": [],
   "source": [
    "arr1 = np.array([1, 2, 3])\n",
    "arr2 = np.array([4, 5, 6])"
   ]
  },
  {
   "cell_type": "code",
   "execution_count": 22,
   "id": "ab846901",
   "metadata": {},
   "outputs": [],
   "source": [
    "arr = np.concatenate((arr1, arr2))"
   ]
  },
  {
   "cell_type": "code",
   "execution_count": 23,
   "id": "114341c9",
   "metadata": {},
   "outputs": [
    {
     "name": "stdout",
     "output_type": "stream",
     "text": [
      "[1 2 3 4 5 6]\n"
     ]
    }
   ],
   "source": [
    "print(arr)"
   ]
  },
  {
   "cell_type": "code",
   "execution_count": 24,
   "id": "7ab8d4b1",
   "metadata": {},
   "outputs": [],
   "source": [
    "##Join with 2 Array 2D"
   ]
  },
  {
   "cell_type": "code",
   "execution_count": 25,
   "id": "4b5e7746",
   "metadata": {},
   "outputs": [],
   "source": [
    "arr1 = np.array([[1, 2],[3, 4]])\n",
    "arr2 = np.array([[5, 6],[7, 8]])"
   ]
  },
  {
   "cell_type": "code",
   "execution_count": 26,
   "id": "3f736e63",
   "metadata": {},
   "outputs": [],
   "source": [
    "arr =np.concatenate ((arr1, arr2), axis=1)"
   ]
  },
  {
   "cell_type": "code",
   "execution_count": 27,
   "id": "17973b41",
   "metadata": {},
   "outputs": [
    {
     "name": "stdout",
     "output_type": "stream",
     "text": [
      "[[1 2 5 6]\n",
      " [3 4 7 8]]\n"
     ]
    }
   ],
   "source": [
    "print(arr)"
   ]
  },
  {
   "cell_type": "code",
   "execution_count": 28,
   "id": "604c1e77",
   "metadata": {},
   "outputs": [
    {
     "data": {
      "text/plain": [
       "(2, 4)"
      ]
     },
     "execution_count": 28,
     "metadata": {},
     "output_type": "execute_result"
    }
   ],
   "source": [
    "arr.shape"
   ]
  },
  {
   "cell_type": "code",
   "execution_count": 29,
   "id": "4dadd016",
   "metadata": {},
   "outputs": [],
   "source": [
    "## Stack for 2 Array 1D"
   ]
  },
  {
   "cell_type": "code",
   "execution_count": 30,
   "id": "2e9206e5",
   "metadata": {},
   "outputs": [],
   "source": [
    "arr1 = np.array([1, 2, 3])\n",
    "arr2 = np.array([4, 5, 6])"
   ]
  },
  {
   "cell_type": "code",
   "execution_count": 31,
   "id": "72d08003",
   "metadata": {},
   "outputs": [],
   "source": [
    "arr = np.stack((arr1, arr2))"
   ]
  },
  {
   "cell_type": "code",
   "execution_count": 32,
   "id": "a6c46a2a",
   "metadata": {},
   "outputs": [
    {
     "name": "stdout",
     "output_type": "stream",
     "text": [
      "[[1 2 3]\n",
      " [4 5 6]]\n"
     ]
    }
   ],
   "source": [
    "print(arr)"
   ]
  },
  {
   "cell_type": "code",
   "execution_count": 33,
   "id": "33369140",
   "metadata": {},
   "outputs": [
    {
     "data": {
      "text/plain": [
       "(2, 3)"
      ]
     },
     "execution_count": 33,
     "metadata": {},
     "output_type": "execute_result"
    }
   ],
   "source": [
    "arr.shape"
   ]
  },
  {
   "cell_type": "code",
   "execution_count": 34,
   "id": "908fd91c",
   "metadata": {},
   "outputs": [],
   "source": [
    "## Stack for 2 Array 1D using hstack()"
   ]
  },
  {
   "cell_type": "code",
   "execution_count": 35,
   "id": "c9ea6d15",
   "metadata": {},
   "outputs": [],
   "source": [
    "arr1 = np.array([1, 2, 3])\n",
    "arr2 = np.array([4, 5, 6])"
   ]
  },
  {
   "cell_type": "code",
   "execution_count": 36,
   "id": "ac40bbe0",
   "metadata": {},
   "outputs": [],
   "source": [
    "arr = np.hstack((arr1, arr2))"
   ]
  },
  {
   "cell_type": "code",
   "execution_count": 37,
   "id": "510c2e2e",
   "metadata": {},
   "outputs": [
    {
     "name": "stdout",
     "output_type": "stream",
     "text": [
      "[1 2 3 4 5 6]\n"
     ]
    }
   ],
   "source": [
    "print(arr)"
   ]
  },
  {
   "cell_type": "code",
   "execution_count": 38,
   "id": "7ca0da61",
   "metadata": {},
   "outputs": [],
   "source": [
    "## Stack for 2 Array 1D using Vstack()"
   ]
  },
  {
   "cell_type": "code",
   "execution_count": 39,
   "id": "bcbd9998",
   "metadata": {},
   "outputs": [],
   "source": [
    "arr1 = np.array([1, 2, 3])\n",
    "arr2 = np.array([4, 5, 6])"
   ]
  },
  {
   "cell_type": "code",
   "execution_count": 40,
   "id": "ae44aa8a",
   "metadata": {},
   "outputs": [],
   "source": [
    "arr = np.vstack((arr1, arr2))"
   ]
  },
  {
   "cell_type": "code",
   "execution_count": 41,
   "id": "b2be4aa6",
   "metadata": {},
   "outputs": [
    {
     "name": "stdout",
     "output_type": "stream",
     "text": [
      "[[1 2 3]\n",
      " [4 5 6]]\n"
     ]
    }
   ],
   "source": [
    "print(arr)"
   ]
  },
  {
   "cell_type": "code",
   "execution_count": 42,
   "id": "7d1055d3",
   "metadata": {},
   "outputs": [],
   "source": [
    "## Split for 1 Array 1D"
   ]
  },
  {
   "cell_type": "code",
   "execution_count": 43,
   "id": "baf41fa0",
   "metadata": {},
   "outputs": [],
   "source": [
    "arr = np.array([1, 2, 3, 4, 5, 6])"
   ]
  },
  {
   "cell_type": "code",
   "execution_count": 44,
   "id": "e614fcda",
   "metadata": {},
   "outputs": [],
   "source": [
    "arr = np.array_split(arr, 3)"
   ]
  },
  {
   "cell_type": "code",
   "execution_count": 45,
   "id": "995daf63",
   "metadata": {},
   "outputs": [
    {
     "name": "stdout",
     "output_type": "stream",
     "text": [
      "[array([1, 2]), array([3, 4]), array([5, 6])]\n"
     ]
    }
   ],
   "source": [
    "print(arr)"
   ]
  },
  {
   "cell_type": "code",
   "execution_count": 46,
   "id": "31a990bb",
   "metadata": {},
   "outputs": [],
   "source": [
    "## Split for 2 Array 2D"
   ]
  },
  {
   "cell_type": "code",
   "execution_count": 47,
   "id": "57e2d9af",
   "metadata": {},
   "outputs": [],
   "source": [
    "arr = np.array([[1, 2], [3, 4], [5, 6], \n",
    "                [7, 8], [9, 10], [11, 12]])"
   ]
  },
  {
   "cell_type": "code",
   "execution_count": 48,
   "id": "fb0049f9",
   "metadata": {},
   "outputs": [],
   "source": [
    "arr = np.array_split(arr, 2)"
   ]
  },
  {
   "cell_type": "code",
   "execution_count": 49,
   "id": "78a07aad",
   "metadata": {},
   "outputs": [
    {
     "data": {
      "text/plain": [
       "[array([[1, 2],\n",
       "        [3, 4],\n",
       "        [5, 6]]),\n",
       " array([[ 7,  8],\n",
       "        [ 9, 10],\n",
       "        [11, 12]])]"
      ]
     },
     "execution_count": 49,
     "metadata": {},
     "output_type": "execute_result"
    }
   ],
   "source": [
    "arr"
   ]
  },
  {
   "cell_type": "code",
   "execution_count": 50,
   "id": "8f8ed585",
   "metadata": {},
   "outputs": [],
   "source": [
    "## Search at Array 1D"
   ]
  },
  {
   "cell_type": "code",
   "execution_count": 51,
   "id": "75e08e48",
   "metadata": {},
   "outputs": [],
   "source": [
    "arr = np.array ([1, 2, 3, 4, 5, 4, 4])"
   ]
  },
  {
   "cell_type": "code",
   "execution_count": 52,
   "id": "4b4f7a48",
   "metadata": {},
   "outputs": [],
   "source": [
    "x =  np.where(arr == 4)"
   ]
  },
  {
   "cell_type": "code",
   "execution_count": 53,
   "id": "769a7bbc",
   "metadata": {},
   "outputs": [
    {
     "name": "stdout",
     "output_type": "stream",
     "text": [
      "(array([3, 5, 6], dtype=int64),)\n"
     ]
    }
   ],
   "source": [
    "print(x)"
   ]
  },
  {
   "cell_type": "code",
   "execution_count": 54,
   "id": "2c3576e7",
   "metadata": {},
   "outputs": [],
   "source": [
    "arr = np.array([1, 2, 3, 4, 5, 4, 4])"
   ]
  },
  {
   "cell_type": "code",
   "execution_count": 55,
   "id": "bf414e3f",
   "metadata": {},
   "outputs": [],
   "source": [
    "x = np.where(arr**2 == 4)"
   ]
  },
  {
   "cell_type": "code",
   "execution_count": 56,
   "id": "9fc27d7b",
   "metadata": {},
   "outputs": [
    {
     "name": "stdout",
     "output_type": "stream",
     "text": [
      "(array([1], dtype=int64),)\n"
     ]
    }
   ],
   "source": [
    "print(x)"
   ]
  },
  {
   "cell_type": "code",
   "execution_count": 57,
   "id": "98abf6ed",
   "metadata": {},
   "outputs": [],
   "source": [
    "## Sort at Array 1D"
   ]
  },
  {
   "cell_type": "code",
   "execution_count": 58,
   "id": "d341ecac",
   "metadata": {},
   "outputs": [],
   "source": [
    "arr = np.array([3, 2, 0, 1])"
   ]
  },
  {
   "cell_type": "code",
   "execution_count": 59,
   "id": "42b07c58",
   "metadata": {},
   "outputs": [
    {
     "name": "stdout",
     "output_type": "stream",
     "text": [
      "[0 1 2 3]\n"
     ]
    }
   ],
   "source": [
    "print(np.sort(arr))"
   ]
  },
  {
   "cell_type": "code",
   "execution_count": 60,
   "id": "733c3eea",
   "metadata": {},
   "outputs": [],
   "source": [
    "arr = np.array(['banana', 'watermelon', 'apple'])"
   ]
  },
  {
   "cell_type": "code",
   "execution_count": 61,
   "id": "47e7a31d",
   "metadata": {},
   "outputs": [
    {
     "name": "stdout",
     "output_type": "stream",
     "text": [
      "['apple' 'banana' 'watermelon']\n"
     ]
    }
   ],
   "source": [
    "print(np.sort(arr))"
   ]
  },
  {
   "cell_type": "code",
   "execution_count": 62,
   "id": "086e7b7b",
   "metadata": {},
   "outputs": [],
   "source": [
    "## Sort at Array 2D"
   ]
  },
  {
   "cell_type": "code",
   "execution_count": 63,
   "id": "81a5ec56",
   "metadata": {},
   "outputs": [],
   "source": [
    "arr = np.array([[5,3,6], [7,2,9]])"
   ]
  },
  {
   "cell_type": "code",
   "execution_count": 64,
   "id": "ebffee80",
   "metadata": {},
   "outputs": [
    {
     "name": "stdout",
     "output_type": "stream",
     "text": [
      "[[3 5 6]\n",
      " [2 7 9]]\n"
     ]
    }
   ],
   "source": [
    "print(np.sort(arr))"
   ]
  }
 ],
 "metadata": {
  "kernelspec": {
   "display_name": "Python 3 (ipykernel)",
   "language": "python",
   "name": "python3"
  },
  "language_info": {
   "codemirror_mode": {
    "name": "ipython",
    "version": 3
   },
   "file_extension": ".py",
   "mimetype": "text/x-python",
   "name": "python",
   "nbconvert_exporter": "python",
   "pygments_lexer": "ipython3",
   "version": "3.9.13"
  }
 },
 "nbformat": 4,
 "nbformat_minor": 5
}
