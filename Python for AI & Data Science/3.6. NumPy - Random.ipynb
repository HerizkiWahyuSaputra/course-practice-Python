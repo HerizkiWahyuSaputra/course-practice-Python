{
 "cells": [
  {
   "cell_type": "code",
   "execution_count": 1,
   "id": "54d73ea6",
   "metadata": {},
   "outputs": [],
   "source": [
    "# Get integer number by random"
   ]
  },
  {
   "cell_type": "code",
   "execution_count": 2,
   "id": "1f2e3c64",
   "metadata": {},
   "outputs": [],
   "source": [
    "from numpy import random"
   ]
  },
  {
   "cell_type": "code",
   "execution_count": 3,
   "id": "1fd3fcbb",
   "metadata": {},
   "outputs": [],
   "source": [
    "x = random.randint(100)"
   ]
  },
  {
   "cell_type": "code",
   "execution_count": 4,
   "id": "fb45edb5",
   "metadata": {},
   "outputs": [
    {
     "data": {
      "text/plain": [
       "35"
      ]
     },
     "execution_count": 4,
     "metadata": {},
     "output_type": "execute_result"
    }
   ],
   "source": [
    "x"
   ]
  },
  {
   "cell_type": "code",
   "execution_count": 5,
   "id": "bd5bf915",
   "metadata": {},
   "outputs": [],
   "source": [
    "# Get float number by random"
   ]
  },
  {
   "cell_type": "code",
   "execution_count": 6,
   "id": "d61b33e8",
   "metadata": {},
   "outputs": [],
   "source": [
    "x = random.rand()"
   ]
  },
  {
   "cell_type": "code",
   "execution_count": 7,
   "id": "13dc73a1",
   "metadata": {},
   "outputs": [
    {
     "data": {
      "text/plain": [
       "0.933254670367825"
      ]
     },
     "execution_count": 7,
     "metadata": {},
     "output_type": "execute_result"
    }
   ],
   "source": [
    "x"
   ]
  },
  {
   "cell_type": "code",
   "execution_count": 8,
   "id": "5344a1e2",
   "metadata": {},
   "outputs": [],
   "source": [
    "# Create Array 1D with integer value by random"
   ]
  },
  {
   "cell_type": "code",
   "execution_count": 9,
   "id": "6341ad32",
   "metadata": {},
   "outputs": [],
   "source": [
    "x = random.randint(100, size=(7))"
   ]
  },
  {
   "cell_type": "code",
   "execution_count": 10,
   "id": "56ae6488",
   "metadata": {},
   "outputs": [
    {
     "data": {
      "text/plain": [
       "array([28, 98, 49, 72, 32, 34, 18])"
      ]
     },
     "execution_count": 10,
     "metadata": {},
     "output_type": "execute_result"
    }
   ],
   "source": [
    "x"
   ]
  },
  {
   "cell_type": "code",
   "execution_count": 11,
   "id": "6872e729",
   "metadata": {},
   "outputs": [],
   "source": [
    "# Create Array 2D with integer value by random"
   ]
  },
  {
   "cell_type": "code",
   "execution_count": 12,
   "id": "99a6be8f",
   "metadata": {},
   "outputs": [],
   "source": [
    "x = random.randint(100, size=(5, 9))"
   ]
  },
  {
   "cell_type": "code",
   "execution_count": 13,
   "id": "817b7850",
   "metadata": {},
   "outputs": [
    {
     "data": {
      "text/plain": [
       "array([[56, 77, 69, 54, 67,  6, 76, 98, 70],\n",
       "       [37, 20,  3,  0, 76, 35, 38, 82, 84],\n",
       "       [ 4, 38, 31, 88, 24, 99, 46, 11, 80],\n",
       "       [77, 82, 90, 71, 39, 19, 51,  4,  9],\n",
       "       [29, 56, 90, 81, 44, 50, 75, 70, 54]])"
      ]
     },
     "execution_count": 13,
     "metadata": {},
     "output_type": "execute_result"
    }
   ],
   "source": [
    "x"
   ]
  },
  {
   "cell_type": "code",
   "execution_count": 14,
   "id": "9308a319",
   "metadata": {},
   "outputs": [],
   "source": [
    "# Create Array 1D with float value by random"
   ]
  },
  {
   "cell_type": "code",
   "execution_count": 15,
   "id": "22c87601",
   "metadata": {},
   "outputs": [],
   "source": [
    "x = random.rand(9)"
   ]
  },
  {
   "cell_type": "code",
   "execution_count": 16,
   "id": "87325fb6",
   "metadata": {},
   "outputs": [
    {
     "data": {
      "text/plain": [
       "array([0.18364018, 0.99220107, 0.10118706, 0.81990121, 0.53253276,\n",
       "       0.47820755, 0.90105749, 0.30859744, 0.15303173])"
      ]
     },
     "execution_count": 16,
     "metadata": {},
     "output_type": "execute_result"
    }
   ],
   "source": [
    "x"
   ]
  },
  {
   "cell_type": "code",
   "execution_count": 17,
   "id": "62c5169c",
   "metadata": {},
   "outputs": [],
   "source": [
    "# Create Array 1D with float value by random"
   ]
  },
  {
   "cell_type": "code",
   "execution_count": 18,
   "id": "66a04cdb",
   "metadata": {},
   "outputs": [],
   "source": [
    "x = random.rand(5, 3)"
   ]
  },
  {
   "cell_type": "code",
   "execution_count": 19,
   "id": "6d18ef19",
   "metadata": {},
   "outputs": [
    {
     "data": {
      "text/plain": [
       "array([[0.374507  , 0.29885545, 0.63121723],\n",
       "       [0.59845055, 0.64960294, 0.6464531 ],\n",
       "       [0.92070302, 0.23643072, 0.38484155],\n",
       "       [0.34936786, 0.49683517, 0.62558547],\n",
       "       [0.33437726, 0.31846912, 0.04205008]])"
      ]
     },
     "execution_count": 19,
     "metadata": {},
     "output_type": "execute_result"
    }
   ],
   "source": [
    "x"
   ]
  },
  {
   "cell_type": "code",
   "execution_count": 20,
   "id": "9bb441fe",
   "metadata": {},
   "outputs": [],
   "source": [
    "# Create random integer value by Array 1D"
   ]
  },
  {
   "cell_type": "code",
   "execution_count": 21,
   "id": "74ecd9b3",
   "metadata": {},
   "outputs": [],
   "source": [
    "x = random.choice([3, 5, 7, 9])"
   ]
  },
  {
   "cell_type": "code",
   "execution_count": 22,
   "id": "2f96903c",
   "metadata": {},
   "outputs": [
    {
     "data": {
      "text/plain": [
       "7"
      ]
     },
     "execution_count": 22,
     "metadata": {},
     "output_type": "execute_result"
    }
   ],
   "source": [
    "x"
   ]
  },
  {
   "cell_type": "code",
   "execution_count": 23,
   "id": "ac1c480f",
   "metadata": {},
   "outputs": [],
   "source": [
    "# scrambler random existing values at Array 1D"
   ]
  },
  {
   "cell_type": "code",
   "execution_count": 24,
   "id": "2863c479",
   "metadata": {},
   "outputs": [],
   "source": [
    "import numpy as np\n",
    "arr = np.array([1, 2, 3, 4, 5])"
   ]
  },
  {
   "cell_type": "code",
   "execution_count": 25,
   "id": "b89f5539",
   "metadata": {},
   "outputs": [],
   "source": [
    "random.shuffle(arr)"
   ]
  },
  {
   "cell_type": "code",
   "execution_count": 26,
   "id": "4117666c",
   "metadata": {},
   "outputs": [
    {
     "name": "stdout",
     "output_type": "stream",
     "text": [
      "[4 3 1 2 5]\n"
     ]
    }
   ],
   "source": [
    "print(arr)"
   ]
  },
  {
   "cell_type": "code",
   "execution_count": null,
   "id": "f1a1cc23",
   "metadata": {},
   "outputs": [],
   "source": []
  }
 ],
 "metadata": {
  "kernelspec": {
   "display_name": "Python 3 (ipykernel)",
   "language": "python",
   "name": "python3"
  },
  "language_info": {
   "codemirror_mode": {
    "name": "ipython",
    "version": 3
   },
   "file_extension": ".py",
   "mimetype": "text/x-python",
   "name": "python",
   "nbconvert_exporter": "python",
   "pygments_lexer": "ipython3",
   "version": "3.9.13"
  }
 },
 "nbformat": 4,
 "nbformat_minor": 5
}
